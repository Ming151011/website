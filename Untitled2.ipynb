{
 "cells": [
  {
   "cell_type": "code",
   "execution_count": 1,
   "id": "49b97a88-3e80-4758-844d-d6e5f5b1fea6",
   "metadata": {},
   "outputs": [],
   "source": [
    "import math\n",
    "import numpy as np"
   ]
  },
  {
   "cell_type": "code",
   "execution_count": null,
   "id": "51425749-6d61-401a-877c-2d846c8d94ad",
   "metadata": {},
   "outputs": [],
   "source": [
    "for i =\n",
    "t1 =30\n",
    "t2 =25\n",
    "n=1.515\n",
    "theta2 = np.arcsin(np.sin(np.deg2rad(t2))/n)\n",
    "theta1 = np.arcsin(np.sin(np.deg2rad(t1))/n)\n",
    "\n",
    "deltatheta2 = np.deg2rad(t2 - np.rad2deg(theta2))\n",
    "deltatheta1 = np.deg2rad(t1 - np.rad2deg(theta1))\n",
    "\n",
    "A = (n-np.cos(deltatheta2))/(np.cos(theta2))\n",
    "\n",
    "B = (n-np.cos(deltatheta1))/(np.cos(theta1))\n",
    "\n",
    "Ans = math.pow(10,-3) * (A-B)\n",
    "\n",
    "print(Ans)"
   ]
  }
 ],
 "metadata": {
  "kernelspec": {
   "display_name": "Python 3 (ipykernel)",
   "language": "python",
   "name": "python3"
  },
  "language_info": {
   "codemirror_mode": {
    "name": "ipython",
    "version": 3
   },
   "file_extension": ".py",
   "mimetype": "text/x-python",
   "name": "python",
   "nbconvert_exporter": "python",
   "pygments_lexer": "ipython3",
   "version": "3.9.12"
  }
 },
 "nbformat": 4,
 "nbformat_minor": 5
}
