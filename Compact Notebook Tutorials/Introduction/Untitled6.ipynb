{
 "cells": [
  {
   "cell_type": "code",
   "execution_count": 1,
   "id": "3aacbaeb-a039-483d-9684-75d5e14339e1",
   "metadata": {},
   "outputs": [
    {
     "name": "stderr",
     "output_type": "stream",
     "text": [
      "/home/311514090/anaconda3/envs/mp/lib/python3.10/site-packages/numpy/core/getlimits.py:500: UserWarning: The value of the smallest subnormal for <class 'numpy.float64'> type is zero.\n",
      "  setattr(self, word, getattr(machar, word).flat[0])\n",
      "/home/311514090/anaconda3/envs/mp/lib/python3.10/site-packages/numpy/core/getlimits.py:89: UserWarning: The value of the smallest subnormal for <class 'numpy.float64'> type is zero.\n",
      "  return self._float_to_str(self.smallest_subnormal)\n",
      "/home/311514090/anaconda3/envs/mp/lib/python3.10/site-packages/numpy/core/getlimits.py:500: UserWarning: The value of the smallest subnormal for <class 'numpy.float32'> type is zero.\n",
      "  setattr(self, word, getattr(machar, word).flat[0])\n",
      "/home/311514090/anaconda3/envs/mp/lib/python3.10/site-packages/numpy/core/getlimits.py:89: UserWarning: The value of the smallest subnormal for <class 'numpy.float32'> type is zero.\n",
      "  return self._float_to_str(self.smallest_subnormal)\n"
     ]
    }
   ],
   "source": [
    "import meep as mp\n",
    "import meep.adjoint as mpa\n",
    "from meep import Animate2D\n",
    "import numpy as np\n",
    "from autograd import numpy as npa\n",
    "from autograd import tensor_jacobian_product\n",
    "import nlopt\n",
    "from matplotlib import pyplot as plt\n",
    "from matplotlib.patches import Circle\n",
    "\n",
    "mp.verbosity(0)\n",
    "Si = mp.Medium(index=3.4)\n",
    "SiO2 = mp.Medium(index=1.44)"
   ]
  },
  {
   "cell_type": "code",
   "execution_count": 2,
   "id": "12eac931-1cc9-4a74-8379-8a9dcff4bab9",
   "metadata": {},
   "outputs": [],
   "source": [
    "waveguide_width = 0.5\n",
    "design_region_width = 2.5\n",
    "design_region_height = 2.5\n",
    "\n",
    "waveguide_length = 0.5\n",
    "\n",
    "pml_size = 1.0\n",
    "\n",
    "resolution = 20\n",
    "\n",
    "frequencies = 1 / np.linspace(1.5, 1.6, 10)"
   ]
  },
  {
   "cell_type": "code",
   "execution_count": 3,
   "id": "9b90e1b0-4885-48c6-ab4c-ef6fe9ecabd7",
   "metadata": {},
   "outputs": [
    {
     "name": "stdout",
     "output_type": "stream",
     "text": [
      "0.20124611797498096\n"
     ]
    }
   ],
   "source": [
    "minimum_length = 0.09  # minimum length scale (microns)\n",
    "eta_i = (\n",
    "    0.5  # blueprint (or intermediate) design field thresholding point (between 0 and 1)\n",
    ")\n",
    "eta_e = 0.55  # erosion design field thresholding point (between 0 and 1)\n",
    "eta_d = 1 - eta_e  # dilation design field thresholding point (between 0 and 1)\n",
    "filter_radius = mpa.get_conic_radius_from_eta_e(minimum_length, eta_e)\n",
    "print(filter_radius)\n",
    "design_region_resolution = int(1 * resolution)"
   ]
  },
  {
   "cell_type": "code",
   "execution_count": 4,
   "id": "9b019694-b338-446f-8500-6907b1dd8912",
   "metadata": {},
   "outputs": [],
   "source": [
    "Sx = 2 * pml_size + 2 * waveguide_length + design_region_width\n",
    "Sy = 2 * pml_size + design_region_height + 0.5\n",
    "cell_size = mp.Vector3(Sx, Sy)\n",
    "\n",
    "pml_layers = [mp.PML(pml_size)]\n",
    "\n",
    "fcen = 1 / 1.55\n",
    "width = 0.1\n",
    "fwidth = width * fcen\n",
    "source_center = [-Sx / 2 + pml_size + waveguide_length / 3, 0, 0]\n",
    "source_size = mp.Vector3(0, Sy, 0)\n",
    "kpoint = mp.Vector3(1, 0, 0)\n",
    "src = mp.GaussianSource(frequency=fcen, fwidth=fwidth)\n",
    "source = [\n",
    "    mp.EigenModeSource(\n",
    "        src,\n",
    "        eig_band=1,\n",
    "        direction=mp.NO_DIRECTION,\n",
    "        eig_kpoint=kpoint,\n",
    "        size=source_size,\n",
    "        center=source_center,\n",
    "    )\n",
    "]"
   ]
  },
  {
   "cell_type": "code",
   "execution_count": 5,
   "id": "57935c75-ca01-41b5-81f5-67f8e8c8d26a",
   "metadata": {},
   "outputs": [],
   "source": [
    "Nx = int(design_region_resolution * design_region_width ) + 1\n",
    "Ny = int(design_region_resolution * design_region_height ) + 1\n",
    "\n",
    "design_variables = mp.MaterialGrid(mp.Vector3(Nx, Ny), SiO2, Si, grid_type=\"U_MEAN\")\n",
    "design_region = mpa.DesignRegion(\n",
    "    design_variables,\n",
    "    volume=mp.Volume(\n",
    "        center=mp.Vector3(),\n",
    "        size=mp.Vector3(design_region_width, design_region_height, 0),\n",
    "    ),\n",
    ")"
   ]
  },
  {
   "cell_type": "code",
   "execution_count": 6,
   "id": "dccb1383-1315-48e6-a21e-c1269f5a6cbe",
   "metadata": {},
   "outputs": [],
   "source": [
    "x_g = np.linspace(-design_region_width / 2, design_region_width / 2, Nx)\n",
    "y_g = np.linspace(-design_region_height / 2, design_region_height / 2, Ny)\n",
    "X_g, Y_g = np.meshgrid(x_g, y_g, sparse=True, indexing=\"ij\")\n",
    "\n",
    "left_wg_mask = (X_g == -design_region_width / 2) & (np.abs(Y_g) <= waveguide_width / 2)\n",
    "top_wg_mask = (Y_g == design_region_width / 2) & (np.abs(X_g) <= waveguide_width / 2)\n",
    "Si_mask = left_wg_mask | top_wg_mask\n",
    "\n",
    "border_mask = (\n",
    "    (X_g == -design_region_width / 2)\n",
    "    | (X_g == design_region_width / 2)\n",
    "    | (Y_g == -design_region_height / 2)\n",
    "    | (Y_g == design_region_height / 2)\n",
    ")\n",
    "SiO2_mask = border_mask.copy()\n",
    "SiO2_mask[Si_mask] = False"
   ]
  },
  {
   "cell_type": "code",
   "execution_count": 7,
   "id": "ba3bc0b4-69e7-454a-8a72-a77aaac1c96e",
   "metadata": {},
   "outputs": [],
   "source": [
    "def mapping(x, eta, beta):\n",
    "    x = npa.where(Si_mask.flatten(), 1, npa.where(SiO2_mask.flatten(), 0, x))\n",
    "\n",
    "    # filter\n",
    "    filtered_field = mpa.conic_filter(\n",
    "        x,\n",
    "        filter_radius,\n",
    "        design_region_width,\n",
    "        design_region_height,\n",
    "        design_region_resolution,\n",
    "    )\n",
    "\n",
    "    # projection\n",
    "    projected_field = mpa.tanh_projection(filtered_field, beta, eta)\n",
    "\n",
    "    projected_field = (\n",
    "        npa.rot90(projected_field.T, 2) + projected_field\n",
    "    ) / 2  # 90-degree symmetry\n",
    "\n",
    "    # interpolate to actual materials\n",
    "    return projected_field.flatten()"
   ]
  },
  {
   "cell_type": "code",
   "execution_count": 8,
   "id": "1c71f3eb-a3ac-4595-af3c-bce9a52d9b7c",
   "metadata": {},
   "outputs": [],
   "source": [
    "geometry = [\n",
    "    mp.Block(\n",
    "        center=mp.Vector3(x=-Sx / 4), material=Si, size=mp.Vector3(Sx / 2, 0.5, 0)\n",
    "    ),  # horizontal waveguide\n",
    "    mp.Block(\n",
    "        center=mp.Vector3(y=Sy / 4), material=Si, size=mp.Vector3(0.5, Sy / 2, 0)\n",
    "    ),  # vertical waveguide\n",
    "    mp.Block(\n",
    "        center=design_region.center, size=design_region.size, material=design_variables\n",
    "    ),  # design region\n",
    "    # mp.Block(center=design_region.center, size=design_region.size, material=design_variables,\n",
    "    #         e1=mp.Vector3(x=-1).rotate(mp.Vector3(z=1), np.pi/2), e2=mp.Vector3(y=1).rotate(mp.Vector3(z=1), np.pi/2))\n",
    "    #\n",
    "    # The commented lines above impose symmetry by overlapping design region with the same design variable. However,\n",
    "    # currently there is an issue of doing that; instead, we use an alternative approach to impose symmetry.\n",
    "    # See https://github.com/NanoComp/meep/issues/1984 and https://github.com/NanoComp/meep/issues/2093\n",
    "]\n",
    "sim = mp.Simulation(\n",
    "    cell_size=cell_size,\n",
    "    boundary_layers=pml_layers,\n",
    "    geometry=geometry,\n",
    "    sources=source,\n",
    "    default_material=SiO2,\n",
    "    resolution=resolution,\n",
    ")"
   ]
  },
  {
   "cell_type": "code",
   "execution_count": 9,
   "id": "10c69297-2d94-46da-b0b7-74e9be209c3d",
   "metadata": {},
   "outputs": [],
   "source": [
    "mode = 1\n",
    "\n",
    "TE0 = mpa.EigenmodeCoefficient(\n",
    "    sim,\n",
    "    mp.Volume(\n",
    "        center=mp.Vector3(x=-Sx / 2 + pml_size + 2 * waveguide_length / 3),\n",
    "        size=mp.Vector3(y=Sy),\n",
    "    ),\n",
    "    mode,\n",
    ")\n",
    "TE_top = mpa.EigenmodeCoefficient(\n",
    "    sim,\n",
    "    mp.Volume(\n",
    "        center=mp.Vector3(0, Sx / 2 - pml_size - 2 * waveguide_length / 3, 0),\n",
    "        size=mp.Vector3(x=Sx),\n",
    "    ),\n",
    "    mode,\n",
    ")\n",
    "ob_list = [TE0, TE_top]\n",
    "\n",
    "\n",
    "def J(source, top):\n",
    "    power = npa.abs(top / source) ** 2\n",
    "    return npa.mean(power)"
   ]
  },
  {
   "cell_type": "code",
   "execution_count": 10,
   "id": "33873702-dbe9-4499-a70f-1417d0237a7b",
   "metadata": {},
   "outputs": [],
   "source": [
    "opt = mpa.OptimizationProblem(\n",
    "    simulation=sim,\n",
    "    objective_functions=J,\n",
    "    objective_arguments=ob_list,\n",
    "    design_regions=[design_region],\n",
    "    frequencies=frequencies\n",
    ")"
   ]
  },
  {
   "cell_type": "code",
   "execution_count": 11,
   "id": "e7b958a0-1acf-412f-9f72-39d3d99b018a",
   "metadata": {},
   "outputs": [
    {
     "ename": "ValueError",
     "evalue": "cannot reshape array of size 2401 into shape (50,50)",
     "output_type": "error",
     "traceback": [
      "\u001b[0;31m---------------------------------------------------------------------------\u001b[0m",
      "\u001b[0;31mValueError\u001b[0m                                Traceback (most recent call last)",
      "Cell \u001b[0;32mIn [11], line 4\u001b[0m\n\u001b[1;32m      2\u001b[0m plt\u001b[38;5;241m.\u001b[39mfigure()\n\u001b[1;32m      3\u001b[0m rho_vector \u001b[38;5;241m=\u001b[39m np\u001b[38;5;241m.\u001b[39mrandom\u001b[38;5;241m.\u001b[39mrand(Nx \u001b[38;5;241m*\u001b[39m Ny)\n\u001b[0;32m----> 4\u001b[0m opt\u001b[38;5;241m.\u001b[39mupdate_design([\u001b[43mmapping\u001b[49m\u001b[43m(\u001b[49m\u001b[43mrho_vector\u001b[49m\u001b[43m,\u001b[49m\u001b[43m \u001b[49m\u001b[43meta_i\u001b[49m\u001b[43m,\u001b[49m\u001b[43m \u001b[49m\u001b[38;5;241;43m1e3\u001b[39;49m\u001b[43m)\u001b[49m])\n\u001b[1;32m      5\u001b[0m opt\u001b[38;5;241m.\u001b[39mplot2D(\u001b[38;5;28;01mTrue\u001b[39;00m, output_plane\u001b[38;5;241m=\u001b[39mmp\u001b[38;5;241m.\u001b[39mVolume(center\u001b[38;5;241m=\u001b[39m(\u001b[38;5;241m0\u001b[39m, \u001b[38;5;241m0\u001b[39m, \u001b[38;5;241m0\u001b[39m), size\u001b[38;5;241m=\u001b[39m(\u001b[38;5;241m3\u001b[39m, \u001b[38;5;241m3\u001b[39m, \u001b[38;5;241m0\u001b[39m)))\n",
      "Cell \u001b[0;32mIn [7], line 5\u001b[0m, in \u001b[0;36mmapping\u001b[0;34m(x, eta, beta)\u001b[0m\n\u001b[1;32m      2\u001b[0m x \u001b[38;5;241m=\u001b[39m npa\u001b[38;5;241m.\u001b[39mwhere(Si_mask\u001b[38;5;241m.\u001b[39mflatten(), \u001b[38;5;241m1\u001b[39m, npa\u001b[38;5;241m.\u001b[39mwhere(SiO2_mask\u001b[38;5;241m.\u001b[39mflatten(), \u001b[38;5;241m0\u001b[39m, x))\n\u001b[1;32m      4\u001b[0m \u001b[38;5;66;03m# filter\u001b[39;00m\n\u001b[0;32m----> 5\u001b[0m filtered_field \u001b[38;5;241m=\u001b[39m \u001b[43mmpa\u001b[49m\u001b[38;5;241;43m.\u001b[39;49m\u001b[43mconic_filter\u001b[49m\u001b[43m(\u001b[49m\n\u001b[1;32m      6\u001b[0m \u001b[43m    \u001b[49m\u001b[43mx\u001b[49m\u001b[43m,\u001b[49m\n\u001b[1;32m      7\u001b[0m \u001b[43m    \u001b[49m\u001b[43mfilter_radius\u001b[49m\u001b[43m,\u001b[49m\n\u001b[1;32m      8\u001b[0m \u001b[43m    \u001b[49m\u001b[43mdesign_region_width\u001b[49m\u001b[43m,\u001b[49m\n\u001b[1;32m      9\u001b[0m \u001b[43m    \u001b[49m\u001b[43mdesign_region_height\u001b[49m\u001b[43m,\u001b[49m\n\u001b[1;32m     10\u001b[0m \u001b[43m    \u001b[49m\u001b[43mdesign_region_resolution\u001b[49m\u001b[43m,\u001b[49m\n\u001b[1;32m     11\u001b[0m \u001b[43m\u001b[49m\u001b[43m)\u001b[49m\n\u001b[1;32m     13\u001b[0m \u001b[38;5;66;03m# projection\u001b[39;00m\n\u001b[1;32m     14\u001b[0m projected_field \u001b[38;5;241m=\u001b[39m mpa\u001b[38;5;241m.\u001b[39mtanh_projection(filtered_field, beta, eta)\n",
      "File \u001b[0;32m~/anaconda3/envs/mp/lib/python3.10/site-packages/meep/adjoint/filters.py:157\u001b[0m, in \u001b[0;36mconic_filter\u001b[0;34m(x, radius, Lx, Ly, resolution)\u001b[0m\n\u001b[1;32m    155\u001b[0m Nx \u001b[38;5;241m=\u001b[39m \u001b[38;5;28mint\u001b[39m(Lx\u001b[38;5;241m*\u001b[39mresolution)\n\u001b[1;32m    156\u001b[0m Ny \u001b[38;5;241m=\u001b[39m \u001b[38;5;28mint\u001b[39m(Ly\u001b[38;5;241m*\u001b[39mresolution)\n\u001b[0;32m--> 157\u001b[0m x \u001b[38;5;241m=\u001b[39m \u001b[43mx\u001b[49m\u001b[38;5;241;43m.\u001b[39;49m\u001b[43mreshape\u001b[49m\u001b[43m(\u001b[49m\u001b[43mNx\u001b[49m\u001b[43m,\u001b[49m\u001b[43m \u001b[49m\u001b[43mNy\u001b[49m\u001b[43m)\u001b[49m \u001b[38;5;66;03m# Ensure the input is 2D\u001b[39;00m\n\u001b[1;32m    159\u001b[0m xv \u001b[38;5;241m=\u001b[39m np\u001b[38;5;241m.\u001b[39marange(\u001b[38;5;241m0\u001b[39m,Lx\u001b[38;5;241m/\u001b[39m\u001b[38;5;241m2\u001b[39m,\u001b[38;5;241m1\u001b[39m\u001b[38;5;241m/\u001b[39mresolution)\n\u001b[1;32m    160\u001b[0m yv \u001b[38;5;241m=\u001b[39m np\u001b[38;5;241m.\u001b[39marange(\u001b[38;5;241m0\u001b[39m,Ly\u001b[38;5;241m/\u001b[39m\u001b[38;5;241m2\u001b[39m,\u001b[38;5;241m1\u001b[39m\u001b[38;5;241m/\u001b[39mresolution)\n",
      "\u001b[0;31mValueError\u001b[0m: cannot reshape array of size 2401 into shape (50,50)"
     ]
    },
    {
     "data": {
      "text/plain": [
       "<Figure size 640x480 with 0 Axes>"
      ]
     },
     "metadata": {},
     "output_type": "display_data"
    }
   ],
   "source": [
    "%matplotlib inline\n",
    "plt.figure()\n",
    "rho_vector = np.random.rand(Nx * Ny)\n",
    "opt.update_design([mapping(rho_vector, eta_i, 1e3)])\n",
    "opt.plot2D(True, output_plane=mp.Volume(center=(0, 0, 0), size=(3, 3, 0)))\n"
   ]
  },
  {
   "cell_type": "code",
   "execution_count": null,
   "id": "83b85d30-8c51-4917-8cab-1ab14336a801",
   "metadata": {},
   "outputs": [],
   "source": []
  }
 ],
 "metadata": {
  "kernelspec": {
   "display_name": "Python 3 (ipykernel)",
   "language": "python",
   "name": "python3"
  },
  "language_info": {
   "codemirror_mode": {
    "name": "ipython",
    "version": 3
   },
   "file_extension": ".py",
   "mimetype": "text/x-python",
   "name": "python",
   "nbconvert_exporter": "python",
   "pygments_lexer": "ipython3",
   "version": "3.10.5"
  }
 },
 "nbformat": 4,
 "nbformat_minor": 5
}
