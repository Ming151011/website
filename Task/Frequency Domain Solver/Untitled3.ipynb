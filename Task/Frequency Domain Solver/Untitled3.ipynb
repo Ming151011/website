{
 "cells": [
  {
   "cell_type": "code",
   "execution_count": 1,
   "id": "f6786c04-e4b1-4881-b7d1-bf1851847378",
   "metadata": {},
   "outputs": [],
   "source": [
    "def sim_cavity(N=3, sy=6, fcen=0.25, df=0.2):\n",
    "    sx = 2 * (pad + dpml + N) + d - 1  # size of cell in x direction\n",
    "    cell = mp.Vector3(sx, sy, 0)\n",
    "    blk = mp.Block(size=mp.Vector3(mp.inf, w, mp.inf), material=mp.Medium(epsilon=eps))\n",
    "    geometry = [blk]\n",
    "\n",
    "    for i in range(N):\n",
    "        geometry.append(mp.Cylinder(r, center=mp.Vector3(d / 2 + i)))\n",
    "        geometry.append(mp.Cylinder(r, center=mp.Vector3(-(d / 2 + i))))\n",
    "\n",
    "    src = [mp.Source(mp.GaussianSource(fcen, fwidth=df), mp.Hz, mp.Vector3(0))]\n",
    "\n",
    "    sym = [mp.Mirror(mp.Y, phase=-1), mp.Mirror(mp.X, phase=-1)]\n",
    "\n",
    "    sim = mp.Simulation(\n",
    "        cell_size=cell,\n",
    "        geometry=geometry,\n",
    "        boundary_layers=pml_layers,\n",
    "        sources=src,\n",
    "        symmetries=sym,\n",
    "        resolution=resolution,\n",
    "    )\n",
    "\n",
    "    return sim"
   ]
  },
  {
   "cell_type": "code",
   "execution_count": 2,
   "id": "50943697-e4f5-4dc2-b0c0-9852feb8dcd9",
   "metadata": {},
   "outputs": [
    {
     "ename": "NameError",
     "evalue": "name 'pad' is not defined",
     "output_type": "error",
     "traceback": [
      "\u001b[0;31m---------------------------------------------------------------------------\u001b[0m",
      "\u001b[0;31mNameError\u001b[0m                                 Traceback (most recent call last)",
      "Cell \u001b[0;32mIn [2], line 1\u001b[0m\n\u001b[0;32m----> 1\u001b[0m sim \u001b[38;5;241m=\u001b[39m \u001b[43msim_cavity\u001b[49m\u001b[43m(\u001b[49m\u001b[43m)\u001b[49m\n\u001b[1;32m      2\u001b[0m f \u001b[38;5;241m=\u001b[39m plt\u001b[38;5;241m.\u001b[39mfigure(dpi\u001b[38;5;241m=\u001b[39m\u001b[38;5;241m100\u001b[39m)\n\u001b[1;32m      3\u001b[0m sim\u001b[38;5;241m.\u001b[39mplot2D(ax\u001b[38;5;241m=\u001b[39mf\u001b[38;5;241m.\u001b[39mgca())\n",
      "Cell \u001b[0;32mIn [1], line 2\u001b[0m, in \u001b[0;36msim_cavity\u001b[0;34m(N, sy, fcen, df)\u001b[0m\n\u001b[1;32m      1\u001b[0m \u001b[38;5;28;01mdef\u001b[39;00m \u001b[38;5;21msim_cavity\u001b[39m(N\u001b[38;5;241m=\u001b[39m\u001b[38;5;241m3\u001b[39m, sy\u001b[38;5;241m=\u001b[39m\u001b[38;5;241m6\u001b[39m, fcen\u001b[38;5;241m=\u001b[39m\u001b[38;5;241m0.25\u001b[39m, df\u001b[38;5;241m=\u001b[39m\u001b[38;5;241m0.2\u001b[39m):\n\u001b[0;32m----> 2\u001b[0m     sx \u001b[38;5;241m=\u001b[39m \u001b[38;5;241m2\u001b[39m \u001b[38;5;241m*\u001b[39m (\u001b[43mpad\u001b[49m \u001b[38;5;241m+\u001b[39m dpml \u001b[38;5;241m+\u001b[39m N) \u001b[38;5;241m+\u001b[39m d \u001b[38;5;241m-\u001b[39m \u001b[38;5;241m1\u001b[39m  \u001b[38;5;66;03m# size of cell in x direction\u001b[39;00m\n\u001b[1;32m      3\u001b[0m     cell \u001b[38;5;241m=\u001b[39m mp\u001b[38;5;241m.\u001b[39mVector3(sx, sy, \u001b[38;5;241m0\u001b[39m)\n\u001b[1;32m      4\u001b[0m     blk \u001b[38;5;241m=\u001b[39m mp\u001b[38;5;241m.\u001b[39mBlock(size\u001b[38;5;241m=\u001b[39mmp\u001b[38;5;241m.\u001b[39mVector3(mp\u001b[38;5;241m.\u001b[39minf, w, mp\u001b[38;5;241m.\u001b[39minf), material\u001b[38;5;241m=\u001b[39mmp\u001b[38;5;241m.\u001b[39mMedium(epsilon\u001b[38;5;241m=\u001b[39meps))\n",
      "\u001b[0;31mNameError\u001b[0m: name 'pad' is not defined"
     ]
    }
   ],
   "source": [
    "sim = sim_cavity()\n",
    "f = plt.figure(dpi=100)\n",
    "sim.plot2D(ax=f.gca())\n",
    "plt.show()"
   ]
  },
  {
   "cell_type": "code",
   "execution_count": null,
   "id": "0969a11d-0d24-4542-ad20-7b90218e0244",
   "metadata": {},
   "outputs": [],
   "source": []
  }
 ],
 "metadata": {
  "kernelspec": {
   "display_name": "Python 3 (ipykernel)",
   "language": "python",
   "name": "python3"
  },
  "language_info": {
   "codemirror_mode": {
    "name": "ipython",
    "version": 3
   },
   "file_extension": ".py",
   "mimetype": "text/x-python",
   "name": "python",
   "nbconvert_exporter": "python",
   "pygments_lexer": "ipython3",
   "version": "3.10.5"
  }
 },
 "nbformat": 4,
 "nbformat_minor": 5
}
