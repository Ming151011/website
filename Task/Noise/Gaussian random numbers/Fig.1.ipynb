{
 "cells": [
  {
   "cell_type": "code",
   "execution_count": 1,
   "id": "76e20229-86ac-44fa-8962-5aea9bb21d50",
   "metadata": {},
   "outputs": [],
   "source": [
    "import numpy as np\n",
    "import matplotlib.pyplot as plt\n",
    "import scipy.constants as spy\n",
    "import math as m"
   ]
  },
  {
   "cell_type": "code",
   "execution_count": 2,
   "id": "54edc408-b3d4-4445-94b1-decefc0002c0",
   "metadata": {},
   "outputs": [],
   "source": [
    "#Ml,Nl\n",
    "rng = np.random.RandomState(seed=1)\n",
    "u1, u2 = rng.uniform(size=100000), rng.uniform(size=100000)\n",
    "s = -np.log(u1)\n",
    "thetas = 2*np.pi*u2\n",
    "r = np.sqrt(2*s)\n",
    "Ml, Nl = r*np.cos(thetas), r*np.sin(thetas)\n",
    "#Ml,Nl"
   ]
  },
  {
   "cell_type": "code",
   "execution_count": 3,
   "id": "c55ebea4-6a2e-417a-8e89-afa85ee799dd",
   "metadata": {},
   "outputs": [
    {
     "ename": "SyntaxError",
     "evalue": "invalid decimal literal (3911085426.py, line 7)",
     "output_type": "error",
     "traceback": [
      "\u001b[0;36m  Cell \u001b[0;32mIn [3], line 7\u001b[0;36m\u001b[0m\n\u001b[0;31m    return((6hb**(2)/(np.pi*spy.k**(2)*T**2))*((2*np.pi*f)/((np.e**(hb*(2*np.pi*f)/spy.k/T))-1)))\u001b[0m\n\u001b[0m            ^\u001b[0m\n\u001b[0;31mSyntaxError\u001b[0m\u001b[0;31m:\u001b[0m invalid decimal literal\n"
     ]
    }
   ],
   "source": [
    "T1=30000\n",
    "T2=50000\n",
    "hb = (spy.h/(2*np.pi))\n",
    "f_list=np.linspace(0, 25*10**(15),10000)\n",
    "#f=f_list*10**(15)\n",
    "def D_formul(f,T,):\n",
    "    return((6hb**(2)/(np.pi*spy.k**(2)*T**2))*((2*np.pi*f)/((np.e**(hb*(2*np.pi*f)/spy.k/T))-1)))\n",
    "D_30000 = D_formul(f_list,T1)\n",
    "D_50000 = D_formul(f_list,T2) \n",
    "f = f_list/10**(15)\n",
    "plt_30000 = plt.plot(f*2*np.pi,D_30000,label='30000k')\n",
    "plt_50000 = plt.plot(f*2*np.pi,D_50000,label='50000k')\n",
    "plt.xlim(0,25)\n",
    "plt.xlabel('omega?frequency(Hz)')\n",
    "plt.ylabel('Energy density (10^-28 J/m)')\n",
    "plt.legend()\n",
    "plt.show()"
   ]
  },
  {
   "cell_type": "code",
   "execution_count": null,
   "id": "112ac2d4-5b28-4dd7-b777-aebece9a0c09",
   "metadata": {},
   "outputs": [],
   "source": []
  }
 ],
 "metadata": {
  "kernelspec": {
   "display_name": "Python 3 (ipykernel)",
   "language": "python",
   "name": "python3"
  },
  "language_info": {
   "codemirror_mode": {
    "name": "ipython",
    "version": 3
   },
   "file_extension": ".py",
   "mimetype": "text/x-python",
   "name": "python",
   "nbconvert_exporter": "python",
   "pygments_lexer": "ipython3",
   "version": "3.10.5"
  }
 },
 "nbformat": 4,
 "nbformat_minor": 5
}
