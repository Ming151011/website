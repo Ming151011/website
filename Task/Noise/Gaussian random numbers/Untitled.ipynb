{
 "cells": [
  {
   "cell_type": "code",
   "execution_count": 1,
   "id": "4c777166-1e47-42bb-903f-698f64c027fb",
   "metadata": {},
   "outputs": [],
   "source": [
    "import meep as mp\n",
    "import numpy as np\n",
    "import matplotlib\n",
    "import matplotlib.pyplot as plt\n",
    "import time\n",
    "from numpy.fft import fft, ifft, fftfreq"
   ]
  },
  {
   "cell_type": "code",
   "execution_count": 3,
   "id": "d0260843-66d1-4286-97fd-d6b5f5157322",
   "metadata": {},
   "outputs": [],
   "source": [
    "n = 1000\n",
    "x = np.linspace(0,5,n)\n",
    "a = np.e**(x)-1\n",
    "x1 = 1/np.e**(x) -1\n",
    "x2 = 1 - x/2 + x **2/12 -x**4/720"
   ]
  },
  {
   "cell_type": "code",
   "execution_count": 7,
   "id": "59ae4b98-48af-4268-b87e-f41169b22cc6",
   "metadata": {},
   "outputs": [],
   "source": [
    "resolution = 50\n",
    "dpml =1.0\n",
    "size = 16 + 2*dpml\n",
    "cell_size = mp.Vector3(z=size)\n",
    "pml_layers = [mp.PML(dpml)]\n",
    "dimensions = 1\n",
    "\n",
    "tsim = 1000\n",
    "courant = 0.5 \n",
    "dt = courant  / resolution\n",
    "Nt = int(tsim/dt + 1)\n",
    "\n",
    "tslice = np.linspace(0, tsim, Nt)\n",
    "\n",
    "##\n",
    "omegal = 2 * np.pi / Nt * np.linspace(0,Nt-1,Nt) \n",
    "ml = np.random.normal(0,1,Nt)\n",
    "nl = np.random.normal(0,1,Nt)"
   ]
  },
  {
   "cell_type": "code",
   "execution_count": null,
   "id": "6f57c26c-5386-4ed3-8377-7e2598df33d0",
   "metadata": {},
   "outputs": [],
   "source": [
    "def Dn(omega,T)\n",
    "    x = np.abs(omega/T)\n",
    "    if x > 1e-3:\n",
    "        tmp = abs(omega)*hb / (np.exp(abs(omega)*hb/T/k)-1) / np.pi/c \n",
    "        output = 6*hb /T**2/k**2  * tmp *c\n",
    "    else:\n",
    "        output = 6 /np.pi/T * (1 - x/2 + x **2/12 -x**4/720) ## Taylor expansion\n",
    "    \n",
    "    output = np.sqrt(output)\n",
    "    return output"
   ]
  }
 ],
 "metadata": {
  "kernelspec": {
   "display_name": "Python 3 (ipykernel)",
   "language": "python",
   "name": "python3"
  },
  "language_info": {
   "codemirror_mode": {
    "name": "ipython",
    "version": 3
   },
   "file_extension": ".py",
   "mimetype": "text/x-python",
   "name": "python",
   "nbconvert_exporter": "python",
   "pygments_lexer": "ipython3",
   "version": "3.10.5"
  }
 },
 "nbformat": 4,
 "nbformat_minor": 5
}
