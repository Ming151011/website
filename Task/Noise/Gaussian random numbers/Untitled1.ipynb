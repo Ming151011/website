{
 "cells": [
  {
   "cell_type": "code",
   "execution_count": 1,
   "id": "4f000720-d65f-4120-8c7e-d73dfd55c680",
   "metadata": {},
   "outputs": [],
   "source": [
    "import numpy as np\n",
    "import matplotlib.pyplot as plt\n",
    "import scipy.constants as spy\n",
    "import math as m\n",
    "from numpy.fft import fft, ifft, fftfreq\n",
    "import time\n",
    "import meep as mp"
   ]
  },
  {
   "cell_type": "code",
   "execution_count": 2,
   "id": "5f5c94c5-2e9b-4d89-a48c-f27207ed8b23",
   "metadata": {},
   "outputs": [],
   "source": [
    "grid = 1\n",
    "dpml =1\n",
    "cavityd = 10\n",
    "cell = (grid+dpml + cavityd)*2 "
   ]
  },
  {
   "cell_type": "code",
   "execution_count": 3,
   "id": "db84d0f6-4c5e-453c-833b-23d434dcf1fc",
   "metadata": {},
   "outputs": [],
   "source": [
    "resolution = 50   \n",
    "tsim = 1000\n",
    "courant = 0.5 \n",
    "dt = courant  / resolution\n",
    "Nt = int(tsim/dt + 1)\n",
    "tslice = np.linspace(0, tsim, Nt)\n",
    "hb=1.05459*10**(-34)\n",
    "c=3*10**8\n",
    "epsilon = 8.854*10**(-12)\n",
    "k= 1.38*10**(-23)\n",
    "tau = 2*Nt*2*10**(-15)\n",
    "\n",
    "##\n",
    "omegal = 2 * np.pi / Nt * np.linspace(0,Nt-1,Nt) \n",
    "ml = np.random.normal(0,1,Nt)\n",
    "nl = np.random.normal(0,1,Nt)\n",
    "\n",
    "def Dnsqr(omega,T):\n",
    "    x = np.abs(omega/T)\n",
    "    if x > 1e-3:\n",
    "        tmp = abs(omega)*hb / (np.exp(abs(omega)*hb/T/k)-1) / np.pi/c \n",
    "        output = 6*hb /T**2/k**2  * tmp *c\n",
    "    else:\n",
    "        output = 6 /np.pi/T * (1 - x/2 + x **2/12 -x**4/720) ## Taylor expansion\n",
    "    \n",
    "    output = np.sqrt(output)\n",
    "    return output\n",
    "tempe = 30000\n",
    "dlsqr = np.empty(Nt)\n",
    "\n",
    "for i in range(Nt):\n",
    "     dlsqr[i] = Dnsqr(omegal[i],tempe) \n",
    "def rms(temperature):\n",
    "    return((((2/(epsilon*6*hb*c))**0.5)*k*temperature))\n",
    "delta = rms(30000)\n",
    "fc = delta*(ml + 1j * nl) * dlsqr/tau**0.5\n",
    "\n",
    "Ef = ifft(fc)"
   ]
  },
  {
   "cell_type": "code",
   "execution_count": 4,
   "id": "2fe4e853-a67c-4109-8279-ea0d32e9a1a0",
   "metadata": {},
   "outputs": [
    {
     "data": {
      "text/plain": [
       "0.4414923039401236"
      ]
     },
     "execution_count": 4,
     "metadata": {},
     "output_type": "execute_result"
    }
   ],
   "source": [
    "np.real(Ef[1])"
   ]
  },
  {
   "cell_type": "code",
   "execution_count": 5,
   "id": "ae07f41d-bc2c-4833-b0af-76d9ed5f932a",
   "metadata": {},
   "outputs": [],
   "source": [
    "\n",
    "\n",
    "source = [mp.Source(mp.CustomSource(np.real(Ef)),mp.Ex,mp.Vector3(11)),\n",
    "          mp.Source(mp.CustomSource(np.real(Ef)),mp.Ex,mp.Vector3(-11))]"
   ]
  },
  {
   "cell_type": "code",
   "execution_count": 6,
   "id": "9b2dc546-f160-4049-8ba7-6107e8cc338f",
   "metadata": {},
   "outputs": [],
   "source": [
    "sim = mp.Simulation(cell_size =mp.Vector3(0),\n",
    "                    geometry = [],\n",
    "                    sources = source,\n",
    "                    resolution = 10,\n",
    "                    boundary_layers = [mp.PML(dpml)]\n",
    "                    )"
   ]
  },
  {
   "cell_type": "code",
   "execution_count": null,
   "id": "59eb487c-e194-4fc1-9c3f-9191c19a01a5",
   "metadata": {},
   "outputs": [
    {
     "name": "stdout",
     "output_type": "stream",
     "text": [
      "-----------\n",
      "Initializing structure...\n",
      "time for choose_chunkdivision = 3.00407e-05 s\n",
      "Working in 2D dimensions.\n",
      "Computational cell is 0.1 x 0.1 x 0 with resolution 10\n",
      "time for set_epsilon = 4.79221e-05 s\n"
     ]
    }
   ],
   "source": [
    "sim.run(until=0.1)"
   ]
  },
  {
   "cell_type": "code",
   "execution_count": null,
   "id": "07297822-9314-44b4-a4fb-9a9fcc8a7a6a",
   "metadata": {},
   "outputs": [],
   "source": []
  }
 ],
 "metadata": {
  "kernelspec": {
   "display_name": "Python 3 (ipykernel)",
   "language": "python",
   "name": "python3"
  },
  "language_info": {
   "codemirror_mode": {
    "name": "ipython",
    "version": 3
   },
   "file_extension": ".py",
   "mimetype": "text/x-python",
   "name": "python",
   "nbconvert_exporter": "python",
   "pygments_lexer": "ipython3",
   "version": "3.10.5"
  }
 },
 "nbformat": 4,
 "nbformat_minor": 5
}
