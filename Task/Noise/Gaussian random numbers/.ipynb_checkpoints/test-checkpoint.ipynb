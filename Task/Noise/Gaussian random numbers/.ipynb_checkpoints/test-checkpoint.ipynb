{
 "cells": [
  {
   "cell_type": "code",
   "execution_count": 1,
   "id": "c75b35fc-bf9a-492d-9885-0964a3bdc229",
   "metadata": {},
   "outputs": [],
   "source": [
    "import numpy as np\n",
    "import matplotlib.pyplot as plt\n",
    "import scipy.constants as spy\n",
    "import math as m "
   ]
  },
  {
   "cell_type": "code",
   "execution_count": 25,
   "id": "06487dd9-feac-47cc-8f0d-5e4bb4a4e396",
   "metadata": {
    "tags": []
   },
   "outputs": [
    {
     "name": "stdout",
     "output_type": "stream",
     "text": [
      "[1.0, 2.0, 3.0, 4.0, 5.0, 6.0, 7.0, 8.0, 9.0, 10.0]\n"
     ]
    },
    {
     "data": {
      "text/plain": [
       "55.0"
      ]
     },
     "execution_count": 25,
     "metadata": {},
     "output_type": "execute_result"
    }
   ],
   "source": [
    "t_list = list(np.linspace(1,10,10))\n",
    "print(t_list)\n",
    "sum(t_list)"
   ]
  },
  {
   "cell_type": "code",
   "execution_count": 36,
   "id": "c6460bee-4f30-4dee-904d-8ca26722906d",
   "metadata": {},
   "outputs": [
    {
     "name": "stdout",
     "output_type": "stream",
     "text": [
      "20.0\n"
     ]
    }
   ],
   "source": [
    "for t in range(len(t_list)) :\n",
    "    x=(t_list[t]+1) + t\n",
    "print(x)\n",
    "\n",
    "\n"
   ]
  },
  {
   "cell_type": "code",
   "execution_count": 37,
   "id": "1f66b037-1b6c-4f12-9d32-8f0343aa896c",
   "metadata": {},
   "outputs": [
    {
     "data": {
      "text/plain": [
       "1.380649e-23"
      ]
     },
     "execution_count": 37,
     "metadata": {},
     "output_type": "execute_result"
    }
   ],
   "source": [
    "spy.k"
   ]
  },
  {
   "cell_type": "code",
   "execution_count": 2,
   "id": "9bf7d57d-b710-4c2f-8320-c37cd3b6b388",
   "metadata": {},
   "outputs": [],
   "source": [
    "f_list=np.linspace(0, 25*10**(15),10000)"
   ]
  },
  {
   "cell_type": "code",
   "execution_count": 3,
   "id": "8f6092c3-bd19-4629-938e-0e1222b98b39",
   "metadata": {},
   "outputs": [
    {
     "data": {
      "text/plain": [
       "array([0.00000000e+00, 2.50025003e+12, 5.00050005e+12, ...,\n",
       "       2.49949995e+16, 2.49974997e+16, 2.50000000e+16])"
      ]
     },
     "execution_count": 3,
     "metadata": {},
     "output_type": "execute_result"
    }
   ],
   "source": [
    "f_list"
   ]
  },
  {
   "cell_type": "code",
   "execution_count": null,
   "id": "e639d2b3-e326-40fd-bad6-c2ced4913a79",
   "metadata": {},
   "outputs": [],
   "source": []
  }
 ],
 "metadata": {
  "kernelspec": {
   "display_name": "Python 3 (ipykernel)",
   "language": "python",
   "name": "python3"
  },
  "language_info": {
   "codemirror_mode": {
    "name": "ipython",
    "version": 3
   },
   "file_extension": ".py",
   "mimetype": "text/x-python",
   "name": "python",
   "nbconvert_exporter": "python",
   "pygments_lexer": "ipython3",
   "version": "3.10.5"
  }
 },
 "nbformat": 4,
 "nbformat_minor": 5
}
