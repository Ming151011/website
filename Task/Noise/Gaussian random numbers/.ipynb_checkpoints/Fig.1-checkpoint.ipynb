{
 "cells": [
  {
   "cell_type": "code",
   "execution_count": 1,
   "id": "76e20229-86ac-44fa-8962-5aea9bb21d50",
   "metadata": {},
   "outputs": [],
   "source": [
    "import numpy as np\n",
    "import matplotlib.pyplot as plt\n",
    "import scipy.constants as spy\n",
    "import math as m"
   ]
  },
  {
   "cell_type": "code",
   "execution_count": 4,
   "id": "54edc408-b3d4-4445-94b1-decefc0002c0",
   "metadata": {},
   "outputs": [
    {
     "data": {
      "text/plain": [
       "(array([-0.55153308, -0.65445032,  2.99907465, ..., -0.5910313 ,\n",
       "         0.94940371,  0.98151349]),\n",
       " array([ 1.20209976, -0.47728581,  3.02615441, ...,  0.22881394,\n",
       "        -0.48001665, -0.12338806]))"
      ]
     },
     "execution_count": 4,
     "metadata": {},
     "output_type": "execute_result"
    }
   ],
   "source": [
    "#Ml,Nl\n",
    "rng = np.random.RandomState(seed=1)\n",
    "u1, u2 = rng.uniform(size=100000), rng.uniform(size=100000)\n",
    "s = -np.log(u1)\n",
    "thetas = 2*np.pi*u2\n",
    "r = np.sqrt(2*s)\n",
    "Ml, Nl = r*np.cos(thetas), r*np.sin(thetas)\n",
    "#Ml,Nl"
   ]
  },
  {
   "cell_type": "code",
   "execution_count": null,
   "id": "c55ebea4-6a2e-417a-8e89-afa85ee799dd",
   "metadata": {},
   "outputs": [],
   "source": []
  }
 ],
 "metadata": {
  "kernelspec": {
   "display_name": "Python 3 (ipykernel)",
   "language": "python",
   "name": "python3"
  },
  "language_info": {
   "codemirror_mode": {
    "name": "ipython",
    "version": 3
   },
   "file_extension": ".py",
   "mimetype": "text/x-python",
   "name": "python",
   "nbconvert_exporter": "python",
   "pygments_lexer": "ipython3",
   "version": "3.10.5"
  }
 },
 "nbformat": 4,
 "nbformat_minor": 5
}
