{
 "cells": [
  {
   "cell_type": "code",
   "execution_count": 1,
   "id": "c75b35fc-bf9a-492d-9885-0964a3bdc229",
   "metadata": {},
   "outputs": [],
   "source": [
    "import numpy as np\n",
    "import matplotlib.pyplot as plt\n",
    "import scipy.constants as spy\n",
    "import math as m \n"
   ]
  },
  {
   "cell_type": "code",
   "execution_count": 25,
   "id": "06487dd9-feac-47cc-8f0d-5e4bb4a4e396",
   "metadata": {
    "tags": []
   },
   "outputs": [
    {
     "name": "stdout",
     "output_type": "stream",
     "text": [
      "[1.0, 2.0, 3.0, 4.0, 5.0, 6.0, 7.0, 8.0, 9.0, 10.0]\n"
     ]
    },
    {
     "data": {
      "text/plain": [
       "55.0"
      ]
     },
     "execution_count": 25,
     "metadata": {},
     "output_type": "execute_result"
    }
   ],
   "source": [
    "t_list = list(np.linspace(1,10,10))\n",
    "print(t_list)\n",
    "sum(t_list)"
   ]
  },
  {
   "cell_type": "code",
   "execution_count": 36,
   "id": "c6460bee-4f30-4dee-904d-8ca26722906d",
   "metadata": {},
   "outputs": [
    {
     "name": "stdout",
     "output_type": "stream",
     "text": [
      "20.0\n"
     ]
    }
   ],
   "source": [
    "for t in range(len(t_list)) :\n",
    "    x=(t_list[t]+1) + t\n",
    "print(x)\n",
    "\n",
    "\n"
   ]
  },
  {
   "cell_type": "code",
   "execution_count": 37,
   "id": "1f66b037-1b6c-4f12-9d32-8f0343aa896c",
   "metadata": {},
   "outputs": [
    {
     "data": {
      "text/plain": [
       "1.380649e-23"
      ]
     },
     "execution_count": 37,
     "metadata": {},
     "output_type": "execute_result"
    }
   ],
   "source": [
    "spy.k"
   ]
  },
  {
   "cell_type": "code",
   "execution_count": 2,
   "id": "9bf7d57d-b710-4c2f-8320-c37cd3b6b388",
   "metadata": {},
   "outputs": [],
   "source": [
    "f_list=np.linspace(0, 25*10**(15),10000)"
   ]
  },
  {
   "cell_type": "code",
   "execution_count": 3,
   "id": "8f6092c3-bd19-4629-938e-0e1222b98b39",
   "metadata": {},
   "outputs": [
    {
     "data": {
      "text/plain": [
       "array([0.00000000e+00, 2.50025003e+12, 5.00050005e+12, ...,\n",
       "       2.49949995e+16, 2.49974997e+16, 2.50000000e+16])"
      ]
     },
     "execution_count": 3,
     "metadata": {},
     "output_type": "execute_result"
    }
   ],
   "source": [
    "f_list"
   ]
  },
  {
   "cell_type": "code",
   "execution_count": 2,
   "id": "e639d2b3-e326-40fd-bad6-c2ced4913a79",
   "metadata": {},
   "outputs": [],
   "source": [
    "def rand():\n",
    "    return np.random.normal(0,1)"
   ]
  },
  {
   "cell_type": "code",
   "execution_count": 3,
   "id": "70b1eb4f-5e51-468e-99c2-1234ce857045",
   "metadata": {},
   "outputs": [
    {
     "data": {
      "text/plain": [
       "-1.8106567694842703"
      ]
     },
     "execution_count": 3,
     "metadata": {},
     "output_type": "execute_result"
    }
   ],
   "source": [
    "rand()"
   ]
  },
  {
   "cell_type": "code",
   "execution_count": 4,
   "id": "9a5cd0f3-ada2-4887-995f-8f59344e57e1",
   "metadata": {},
   "outputs": [
    {
     "data": {
      "text/plain": [
       "-1.0319413422983017"
      ]
     },
     "execution_count": 4,
     "metadata": {},
     "output_type": "execute_result"
    }
   ],
   "source": [
    "rand()"
   ]
  },
  {
   "cell_type": "code",
   "execution_count": 5,
   "id": "c968c137-3e09-4adc-9702-b3fdab55f9f5",
   "metadata": {},
   "outputs": [
    {
     "data": {
      "text/plain": [
       "6.62607015e-34"
      ]
     },
     "execution_count": 5,
     "metadata": {},
     "output_type": "execute_result"
    }
   ],
   "source": [
    "spy.h\n"
   ]
  },
  {
   "cell_type": "code",
   "execution_count": 6,
   "id": "d06cfef4-6fc5-440a-b316-577bba0bb6db",
   "metadata": {},
   "outputs": [],
   "source": [
    "hb = spy.h/(2*np.pi)"
   ]
  },
  {
   "cell_type": "code",
   "execution_count": 7,
   "id": "9406c0e5-d535-43ec-ae71-924fdf8a77b6",
   "metadata": {},
   "outputs": [
    {
     "data": {
      "text/plain": [
       "1.0545718176461565e-34"
      ]
     },
     "execution_count": 7,
     "metadata": {},
     "output_type": "execute_result"
    }
   ],
   "source": [
    "hb"
   ]
  },
  {
   "cell_type": "code",
   "execution_count": 8,
   "id": "7d82faab-06c3-4181-9421-4982a67554f0",
   "metadata": {},
   "outputs": [
    {
     "data": {
      "text/plain": [
       "7.638232582257738e-12"
      ]
     },
     "execution_count": 8,
     "metadata": {},
     "output_type": "execute_result"
    }
   ],
   "source": [
    "hb/spy.k"
   ]
  },
  {
   "cell_type": "code",
   "execution_count": 10,
   "id": "dabb71a3-b5ff-4282-9303-4b2aedbad2e9",
   "metadata": {},
   "outputs": [
    {
     "ename": "AttributeError",
     "evalue": "module 'scipy.constants' has no attribute 'eps'",
     "output_type": "error",
     "traceback": [
      "\u001b[0;31m---------------------------------------------------------------------------\u001b[0m",
      "\u001b[0;31mAttributeError\u001b[0m                            Traceback (most recent call last)",
      "Cell \u001b[0;32mIn [10], line 1\u001b[0m\n\u001b[0;32m----> 1\u001b[0m \u001b[43mspy\u001b[49m\u001b[38;5;241;43m.\u001b[39;49m\u001b[43meps\u001b[49m\n",
      "\u001b[0;31mAttributeError\u001b[0m: module 'scipy.constants' has no attribute 'eps'"
     ]
    }
   ],
   "source": [
    "spy.eps"
   ]
  },
  {
   "cell_type": "code",
   "execution_count": 11,
   "id": "db7ad344-1415-4410-82ef-fbb24045dcf0",
   "metadata": {},
   "outputs": [
    {
     "data": {
      "text/plain": [
       "1.0545718176461565e-34"
      ]
     },
     "execution_count": 11,
     "metadata": {},
     "output_type": "execute_result"
    }
   ],
   "source": [
    "spy.hbar"
   ]
  },
  {
   "cell_type": "code",
   "execution_count": 17,
   "id": "b6a06f71-d422-4672-8e41-7ec8f8a6ebd7",
   "metadata": {},
   "outputs": [
    {
     "data": {
      "text/plain": [
       "array([-2097152., -2097151., -2097150., ...,  2097149.,  2097150.,\n",
       "        2097151.])"
      ]
     },
     "execution_count": 17,
     "metadata": {},
     "output_type": "execute_result"
    }
   ],
   "source": [
    "np.linspace(-2**21,2**21-1,2**22)"
   ]
  },
  {
   "cell_type": "code",
   "execution_count": null,
   "id": "e8569f43-49e6-4602-85d1-a66ead9a6e5e",
   "metadata": {},
   "outputs": [],
   "source": []
  }
 ],
 "metadata": {
  "kernelspec": {
   "display_name": "Python 3 (ipykernel)",
   "language": "python",
   "name": "python3"
  },
  "language_info": {
   "codemirror_mode": {
    "name": "ipython",
    "version": 3
   },
   "file_extension": ".py",
   "mimetype": "text/x-python",
   "name": "python",
   "nbconvert_exporter": "python",
   "pygments_lexer": "ipython3",
   "version": "3.10.5"
  }
 },
 "nbformat": 4,
 "nbformat_minor": 5
}
