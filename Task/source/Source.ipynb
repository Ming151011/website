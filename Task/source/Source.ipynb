{
 "cells": [
  {
   "cell_type": "code",
   "execution_count": 1,
   "id": "fe8a7f97-ceff-4f54-8b63-fb0473d5cf60",
   "metadata": {},
   "outputs": [],
   "source": [
    "import numpy as np\n",
    "import matplotlib.pyplot as plt\n",
    "import time\n",
    "from scipy import signal\n",
    "from time import sleep\n",
    "import sys\n",
    "import meep as mp"
   ]
  },
  {
   "cell_type": "code",
   "execution_count": 2,
   "id": "4b19dc4f-8198-4865-9070-b506b11587b1",
   "metadata": {},
   "outputs": [],
   "source": [
    "M=2**21\n",
    "tsim=7*10**(-12)\n",
    "eps0 = 8.854187e-12\n",
    "hbar = 1.05457182e-34\n",
    "c = 2.99792458e8\n",
    "kb = 1.380649e-23\n",
    "hdk=7.63823258e-12\n",
    "deltap = np.sqrt(1/3/eps0/hbar/c)*kb\n",
    "T=50000"
   ]
  },
  {
   "cell_type": "code",
   "execution_count": 13,
   "id": "6865fc85-2c86-4ef6-a105-f46a2798eeea",
   "metadata": {},
   "outputs": [],
   "source": [
    "#define square root of Dn function\n",
    "def Dnsqt(wla,T):\n",
    "    return np.sqrt(6*hdk**2*wla/(np.exp(hdk*wla/T)-1)/T**2/np.pi)\n",
    "\n",
    "#generate an array of the square root of Dn function\n",
    "Dsqt = []\n",
    "for n in range(1,M):\n",
    "    Dsqt.append(Dnsqt(2*np.pi*n/tsim,T))\n",
    "\n",
    "#define how many times to run to average the results\n",
    "Ncomp=100\n",
    "\n",
    "\n",
    "#define the starting sum of the result\n",
    "Efsum = np.zeros(2*M)\n",
    "\n",
    "#generate random numbers\n",
    "M0 = np.random.normal(0,1)\n",
    "Mlp = np.random.normal(0,1,M-1)\n",
    "Nlp = np.random.normal(0,1,M-1)\n",
    "MM = np.random.normal(0,1)\n",
    "    \n",
    "    #generate the array of the fourier transform of E field, we generate l=0 and l=-M separately. \n",
    "    #for l=1 to M-1 and l=-1 to -(M-1) are conjutated to each other. \n",
    "    #we contruct the whole array by gluing them together by the order from l=0 -> l=M-1 -> l=-M -> l=-(m-1) -> l=-1\n",
    "Ef0 = np.array([M0*np.sqrt(6*hdk/np.pi/T)])\n",
    "Eflp = np.multiply((Mlp + 1j*Nlp), Dsqt)\n",
    "Eflm = np.flip(np.conjugate(Eflp))\n",
    "EfM = np.array([MM*Dnsqt(2*np.pi*M/tsim,T)])\n",
    "Ef = np.hstack((Ef0,Eflp,EfM,Eflm))\n",
    "    \n",
    "    #we normalize Ef and compute its inverse fast fourier transform\n",
    "Efn = deltap*T/np.sqrt(tsim)*Ef\n",
    "En = np.fft.ifft(Efn)\n",
    "\n",
    "S_Efn = lambda t : Efn[t]\n",
    "sources = [\n",
    "    mp.Source(src=mp.CustomSource(src_func=S_Efn,\n",
    "                                  start_time = 0,\n",
    "                                  end_time = 1000),\n",
    "        center=mp.Vector3(1),\n",
    "        size=mp.Vector3(1),\n",
    "        component=mp.Ez,\n",
    "    )\n",
    "]\n"
   ]
  },
  {
   "cell_type": "code",
   "execution_count": 16,
   "id": "1937ef6b-23dc-4157-8645-58b2ae57d247",
   "metadata": {},
   "outputs": [],
   "source": [
    "eps = 13  # dielectric constant of waveguide\n",
    "w = 1.2  # width of waveguide\n",
    "r = 0.36  # radius of holes\n",
    "d = 1.4  # defect spacing (ordinary spacing = 1)\n",
    "N = 3  # number of holes on either side of defect\n",
    "\n",
    "resolution = 20  # pixels/μm\n",
    "sy = 6  # size of cell in y direction (perpendicular to wvg.)\n",
    "pad = 2  # padding between last hole and PML edge\n",
    "dpml = 1  # PML thickness\n",
    "sx = 2 * (pad + dpml + N) + d - 1  # size of cell in x direction\n",
    "cell = mp.Vector3(sx,)\n",
    "pml_layers = mp.PML(dpml)\n",
    "\n",
    "geometry = [\n",
    "    mp.Block(\n",
    "        center=mp.Vector3(),\n",
    "        size=mp.Vector3(w),\n",
    "        material=mp.Medium(epsilon=eps),\n",
    "    )\n",
    "]\n",
    "sim = mp.Simulation(\n",
    "    cell_size=cell,\n",
    "    geometry=geometry,\n",
    "    sources=[sources],\n",
    "    boundary_layers=[pml_layers],\n",
    "    resolution=resolution,\n",
    ")\n"
   ]
  },
  {
   "cell_type": "code",
   "execution_count": 18,
   "id": "99dd799d-d3ec-40cc-8de8-aee780cee234",
   "metadata": {},
   "outputs": [
    {
     "name": "stdout",
     "output_type": "stream",
     "text": [
      "-----------\n",
      "Initializing structure...\n",
      "time for choose_chunkdivision = 8.41618e-05 s\n",
      "Working in 2D dimensions.\n",
      "Computational cell is 12.4 x 0.05 x 0 with resolution 20\n",
      "     block, center = (0,0,0)\n",
      "          size (1.2,0,0)\n",
      "          axes (1,0,0), (0,1,0), (0,0,1)\n",
      "          dielectric constant epsilon diagonal = (13,13,13)\n",
      "time for set_epsilon = 0.0021379 s\n",
      "-----------\n"
     ]
    },
    {
     "ename": "AttributeError",
     "evalue": "'list' object has no attribute 'center'",
     "output_type": "error",
     "traceback": [
      "\u001b[0;31m---------------------------------------------------------------------------\u001b[0m",
      "\u001b[0;31mAttributeError\u001b[0m                            Traceback (most recent call last)",
      "Cell \u001b[0;32mIn [18], line 1\u001b[0m\n\u001b[0;32m----> 1\u001b[0m \u001b[43msim\u001b[49m\u001b[38;5;241;43m.\u001b[39;49m\u001b[43mrun\u001b[49m\u001b[43m(\u001b[49m\n\u001b[1;32m      2\u001b[0m \u001b[43m    \u001b[49m\u001b[43muntil_after_sources\u001b[49m\u001b[38;5;241;43m=\u001b[39;49m\u001b[43mmp\u001b[49m\u001b[38;5;241;43m.\u001b[39;49m\u001b[43mstop_when_fields_decayed\u001b[49m\u001b[43m(\u001b[49m\n\u001b[1;32m      3\u001b[0m \u001b[43m        \u001b[49m\u001b[38;5;241;43m50\u001b[39;49m\u001b[43m,\u001b[49m\u001b[43m \u001b[49m\u001b[43mmp\u001b[49m\u001b[38;5;241;43m.\u001b[39;49m\u001b[43mHz\u001b[49m\u001b[43m,\u001b[49m\u001b[43m \u001b[49m\u001b[43mmp\u001b[49m\u001b[38;5;241;43m.\u001b[39;49m\u001b[43mVector3\u001b[49m\u001b[43m(\u001b[49m\u001b[38;5;241;43m0.12\u001b[39;49m\u001b[43m,\u001b[49m\u001b[43m \u001b[49m\u001b[38;5;241;43m-\u001b[39;49m\u001b[38;5;241;43m0.37\u001b[39;49m\u001b[43m)\u001b[49m\u001b[43m,\u001b[49m\u001b[43m \u001b[49m\u001b[38;5;241;43m1e-8\u001b[39;49m\n\u001b[1;32m      4\u001b[0m \u001b[43m    \u001b[49m\u001b[43m)\u001b[49m\n\u001b[1;32m      5\u001b[0m \u001b[43m)\u001b[49m\n",
      "File \u001b[0;32m~/anaconda3/envs/mp/lib/python3.10/site-packages/meep/simulation.py:3871\u001b[0m, in \u001b[0;36mSimulation.run\u001b[0;34m(self, *step_funcs, **kwargs)\u001b[0m\n\u001b[1;32m   3868\u001b[0m until_after_sources \u001b[38;5;241m=\u001b[39m kwargs\u001b[38;5;241m.\u001b[39mpop(\u001b[38;5;124m'\u001b[39m\u001b[38;5;124muntil_after_sources\u001b[39m\u001b[38;5;124m'\u001b[39m, \u001b[38;5;28;01mNone\u001b[39;00m)\n\u001b[1;32m   3870\u001b[0m \u001b[38;5;28;01mif\u001b[39;00m \u001b[38;5;28mself\u001b[39m\u001b[38;5;241m.\u001b[39mfields \u001b[38;5;129;01mis\u001b[39;00m \u001b[38;5;28;01mNone\u001b[39;00m:\n\u001b[0;32m-> 3871\u001b[0m     \u001b[38;5;28;43mself\u001b[39;49m\u001b[38;5;241;43m.\u001b[39;49m\u001b[43minit_sim\u001b[49m\u001b[43m(\u001b[49m\u001b[43m)\u001b[49m\n\u001b[1;32m   3873\u001b[0m \u001b[38;5;28mself\u001b[39m\u001b[38;5;241m.\u001b[39m_evaluate_dft_objects()\n\u001b[1;32m   3874\u001b[0m \u001b[38;5;28mself\u001b[39m\u001b[38;5;241m.\u001b[39m_check_material_frequencies()\n",
      "File \u001b[0;32m~/anaconda3/envs/mp/lib/python3.10/site-packages/meep/simulation.py:2067\u001b[0m, in \u001b[0;36mSimulation.init_sim\u001b[0;34m(self)\u001b[0m\n\u001b[1;32m   2064\u001b[0m     v \u001b[38;5;241m=\u001b[39m Vector3(\u001b[38;5;28mself\u001b[39m\u001b[38;5;241m.\u001b[39mk_point\u001b[38;5;241m.\u001b[39mx, \u001b[38;5;28mself\u001b[39m\u001b[38;5;241m.\u001b[39mk_point\u001b[38;5;241m.\u001b[39my) \u001b[38;5;28;01mif\u001b[39;00m \u001b[38;5;28mself\u001b[39m\u001b[38;5;241m.\u001b[39mspecial_kz \u001b[38;5;28;01melse\u001b[39;00m \u001b[38;5;28mself\u001b[39m\u001b[38;5;241m.\u001b[39mk_point\n\u001b[1;32m   2065\u001b[0m     \u001b[38;5;28mself\u001b[39m\u001b[38;5;241m.\u001b[39mfields\u001b[38;5;241m.\u001b[39muse_bloch(py_v3_to_vec(\u001b[38;5;28mself\u001b[39m\u001b[38;5;241m.\u001b[39mdimensions, v, \u001b[38;5;28mself\u001b[39m\u001b[38;5;241m.\u001b[39mis_cylindrical))\n\u001b[0;32m-> 2067\u001b[0m \u001b[38;5;28;43mself\u001b[39;49m\u001b[38;5;241;43m.\u001b[39;49m\u001b[43madd_sources\u001b[49m\u001b[43m(\u001b[49m\u001b[43m)\u001b[49m\n\u001b[1;32m   2069\u001b[0m \u001b[38;5;28;01mfor\u001b[39;00m hook \u001b[38;5;129;01min\u001b[39;00m \u001b[38;5;28mself\u001b[39m\u001b[38;5;241m.\u001b[39minit_sim_hooks:\n\u001b[1;32m   2070\u001b[0m     hook()\n",
      "File \u001b[0;32m~/anaconda3/envs/mp/lib/python3.10/site-packages/meep/simulation.py:2539\u001b[0m, in \u001b[0;36mSimulation.add_sources\u001b[0;34m(self)\u001b[0m\n\u001b[1;32m   2537\u001b[0m     \u001b[38;5;28mself\u001b[39m\u001b[38;5;241m.\u001b[39minit_sim() \u001b[38;5;66;03m# in case only some processes have IndexedSources\u001b[39;00m\n\u001b[1;32m   2538\u001b[0m \u001b[38;5;28;01mfor\u001b[39;00m s \u001b[38;5;129;01min\u001b[39;00m \u001b[38;5;28mself\u001b[39m\u001b[38;5;241m.\u001b[39msources:\n\u001b[0;32m-> 2539\u001b[0m     \u001b[38;5;28;43mself\u001b[39;49m\u001b[38;5;241;43m.\u001b[39;49m\u001b[43madd_source\u001b[49m\u001b[43m(\u001b[49m\u001b[43ms\u001b[49m\u001b[43m)\u001b[49m\n\u001b[1;32m   2540\u001b[0m \u001b[38;5;28mself\u001b[39m\u001b[38;5;241m.\u001b[39mfields\u001b[38;5;241m.\u001b[39mrequire_source_components()\n",
      "File \u001b[0;32m~/anaconda3/envs/mp/lib/python3.10/site-packages/meep/simulation.py:2461\u001b[0m, in \u001b[0;36mSimulation.add_source\u001b[0;34m(self, src)\u001b[0m\n\u001b[1;32m   2458\u001b[0m     \u001b[38;5;28mself\u001b[39m\u001b[38;5;241m.\u001b[39mfields\u001b[38;5;241m.\u001b[39madd_srcdata(src\u001b[38;5;241m.\u001b[39msrcdata, src\u001b[38;5;241m.\u001b[39msrc\u001b[38;5;241m.\u001b[39mswigobj, src\u001b[38;5;241m.\u001b[39mnum_pts, src\u001b[38;5;241m.\u001b[39mamp_arr, src\u001b[38;5;241m.\u001b[39mneeds_boundary_fix)\n\u001b[1;32m   2459\u001b[0m     \u001b[38;5;28;01mreturn\u001b[39;00m\n\u001b[0;32m-> 2461\u001b[0m where \u001b[38;5;241m=\u001b[39m Volume(\u001b[43msrc\u001b[49m\u001b[38;5;241;43m.\u001b[39;49m\u001b[43mcenter\u001b[49m, src\u001b[38;5;241m.\u001b[39msize, dims\u001b[38;5;241m=\u001b[39m\u001b[38;5;28mself\u001b[39m\u001b[38;5;241m.\u001b[39mdimensions,\n\u001b[1;32m   2462\u001b[0m                is_cylindrical\u001b[38;5;241m=\u001b[39m\u001b[38;5;28mself\u001b[39m\u001b[38;5;241m.\u001b[39mis_cylindrical)\u001b[38;5;241m.\u001b[39mswigobj\n\u001b[1;32m   2464\u001b[0m \u001b[38;5;28;01mif\u001b[39;00m \u001b[38;5;28misinstance\u001b[39m(src, EigenModeSource):\n\u001b[1;32m   2465\u001b[0m     \u001b[38;5;28;01mif\u001b[39;00m src\u001b[38;5;241m.\u001b[39mdirection \u001b[38;5;241m<\u001b[39m \u001b[38;5;241m0\u001b[39m:\n",
      "\u001b[0;31mAttributeError\u001b[0m: 'list' object has no attribute 'center'"
     ]
    }
   ],
   "source": [
    "sim.run(\n",
    "    until_after_sources=mp.stop_when_fields_decayed(\n",
    "        50, mp.Hz, mp.Vector3(0.12, -0.37), 1e-8\n",
    "    )\n",
    ")"
   ]
  },
  {
   "cell_type": "code",
   "execution_count": null,
   "id": "f7498253-52a6-496d-90d7-d14d04c47cd8",
   "metadata": {},
   "outputs": [],
   "source": []
  }
 ],
 "metadata": {
  "kernelspec": {
   "display_name": "Python 3 (ipykernel)",
   "language": "python",
   "name": "python3"
  },
  "language_info": {
   "codemirror_mode": {
    "name": "ipython",
    "version": 3
   },
   "file_extension": ".py",
   "mimetype": "text/x-python",
   "name": "python",
   "nbconvert_exporter": "python",
   "pygments_lexer": "ipython3",
   "version": "3.10.5"
  }
 },
 "nbformat": 4,
 "nbformat_minor": 5
}
