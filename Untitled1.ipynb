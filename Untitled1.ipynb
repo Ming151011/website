{
 "cells": [
  {
   "cell_type": "code",
   "execution_count": 3,
   "id": "22c2e6dc-42fd-49c6-8465-b7b1d8ab08fe",
   "metadata": {},
   "outputs": [],
   "source": [
    "import math\n",
    "import numpy as np"
   ]
  },
  {
   "cell_type": "code",
   "execution_count": 4,
   "id": "789d1aa3-fc04-4df0-bb09-0b9bb7a468cc",
   "metadata": {},
   "outputs": [
    {
     "name": "stdout",
     "output_type": "stream",
     "text": [
      "0.00241009656091673\n"
     ]
    }
   ],
   "source": [
    "t2=5\n",
    "t1=0\n",
    "x = (1.515-np.cos(np.deg2rad(t2)-(np.arcsin(np.sin(np.deg2rad(t2))/1.515))))/np.cos(np.deg2rad(t2))-(1.515-np.cos(np.deg2rad(t1)-(np.arcsin(np.sin(np.deg2rad(t1))/1.515))))/np.cos(np.deg2rad(t1))\n",
    "print(x)"
   ]
  },
  {
   "cell_type": "code",
   "execution_count": null,
   "id": "7c9455e8-fc66-40aa-97ff-65b4b7eca9cd",
   "metadata": {},
   "outputs": [],
   "source": []
  }
 ],
 "metadata": {
  "kernelspec": {
   "display_name": "Python 3 (ipykernel)",
   "language": "python",
   "name": "python3"
  },
  "language_info": {
   "codemirror_mode": {
    "name": "ipython",
    "version": 3
   },
   "file_extension": ".py",
   "mimetype": "text/x-python",
   "name": "python",
   "nbconvert_exporter": "python",
   "pygments_lexer": "ipython3",
   "version": "3.9.12"
  }
 },
 "nbformat": 4,
 "nbformat_minor": 5
}
