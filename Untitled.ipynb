{
 "cells": [
  {
   "cell_type": "code",
   "execution_count": 1,
   "id": "9eb66f48-9910-48b4-a51b-8c9d5a287c9e",
   "metadata": {},
   "outputs": [],
   "source": [
    "import math\n",
    "import numpy as np"
   ]
  },
  {
   "cell_type": "code",
   "execution_count": 45,
   "id": "267f6561-263b-4e24-81c9-c020aa8c3893",
   "metadata": {},
   "outputs": [
    {
     "name": "stdout",
     "output_type": "stream",
     "text": [
      "-1.553560776186358e-05\n"
     ]
    }
   ],
   "source": [
    "t1 =30\n",
    "t2 =25\n",
    "n=1.515\n",
    "theta2 = np.arcsin(np.sin(np.deg2rad(t2))/n)\n",
    "theta1 = np.arcsin(np.sin(np.deg2rad(t1))/n)\n",
    "\n",
    "deltatheta2 = np.deg2rad(t2 - np.rad2deg(theta2))\n",
    "deltatheta1 = np.deg2rad(t1 - np.rad2deg(theta1))\n",
    "\n",
    "A = (n-np.cos(deltatheta2))/(np.cos(theta2))\n",
    "\n",
    "B = (n-np.cos(deltatheta1))/(np.cos(theta1))\n",
    "\n",
    "Ans = math.pow(10,-3) * (A-B)\n",
    "\n",
    "print(Ans)"
   ]
  },
  {
   "cell_type": "code",
   "execution_count": 13,
   "id": "61b77131-95f3-4f53-994f-fb4cf3bd329f",
   "metadata": {},
   "outputs": [
    {
     "data": {
      "text/plain": [
       "0.001"
      ]
     },
     "execution_count": 13,
     "metadata": {},
     "output_type": "execute_result"
    }
   ],
   "source": [
    "\n",
    "math.pow(10,-3)"
   ]
  }
 ],
 "metadata": {
  "kernelspec": {
   "display_name": "Python 3 (ipykernel)",
   "language": "python",
   "name": "python3"
  },
  "language_info": {
   "codemirror_mode": {
    "name": "ipython",
    "version": 3
   },
   "file_extension": ".py",
   "mimetype": "text/x-python",
   "name": "python",
   "nbconvert_exporter": "python",
   "pygments_lexer": "ipython3",
   "version": "3.9.12"
  }
 },
 "nbformat": 4,
 "nbformat_minor": 5
}
